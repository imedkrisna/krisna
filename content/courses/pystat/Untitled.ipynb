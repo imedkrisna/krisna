{
 "cells": [
  {
   "cell_type": "markdown",
   "metadata": {},
   "source": [
    "Kita akan belajar menggunakan Pandas. Pandas adalah salah satu paket paling penting bagi statistisi karena Pandas membuat Python dapat membaca dan memanipulasi *data frame*. *Data frame* merupakan susunan data yang bentukannya mirip di *Microsoft Excel* yang bentuknya dua dimensi.\n",
    "\n",
    "Pandas adalah singkatan dari Panel data, istilah yang diambil dari ekonometri. Ada banyak hal yang dapat dilakukan di Pandas, tapi di sini kita akan belajar ngutak-utik data dengan menggunakan Pandas secukupnya.\n",
    "\n",
    "Anda harus memanggil Pandas di setiap sesi memulai Python dengan menggunakan komando:"
   ]
  },
  {
   "cell_type": "code",
   "execution_count": 1,
   "metadata": {},
   "outputs": [],
   "source": [
    "import pandas as pd"
   ]
  },
  {
   "cell_type": "markdown",
   "metadata": {},
   "source": [
    "Setelah itu, anda tinggal pakai pd.<command> tiap kali mau memakai panda.\n",
    "\n",
    "Data Frame bentuknya seperti ini:"
   ]
  },
  {
   "cell_type": "code",
   "execution_count": 6,
   "metadata": {},
   "outputs": [
    {
     "data": {
      "text/plain": [
       "{'Nama': ['imed', 'krisna', 'wisnu', 'gupta'],\n",
       " 'pekerjaan': ['Ekonom', 'kontraktor', 'pelajar', 'tukang baso'],\n",
       " 'usia': [30, 27, 19, 25]}"
      ]
     },
     "execution_count": 6,
     "metadata": {},
     "output_type": "execute_result"
    }
   ],
   "source": [
    "# menulis data dari awal. \n",
    "data = {'Nama':['imed', 'krisna', 'wisnu', 'gupta'], 'pekerjaan':['Ekonom', 'kontraktor', 'pelajar', 'tukang baso'], 'usia':[30, 27, 19, 25]} \n",
    "\n",
    "# print\n",
    "data"
   ]
  },
  {
   "cell_type": "markdown",
   "metadata": {},
   "source": [
    "Seperti anda lihat, data di atas bentuknya kurang enak dilihat. Datanya sih jadi, tapi kurang intuitif. Jika kita gunakan panda data frame, hasilnya lebih enak dilihat dan lebih ada artinya."
   ]
  },
  {
   "cell_type": "code",
   "execution_count": 7,
   "metadata": {},
   "outputs": [
    {
     "data": {
      "text/html": [
       "<div>\n",
       "<style scoped>\n",
       "    .dataframe tbody tr th:only-of-type {\n",
       "        vertical-align: middle;\n",
       "    }\n",
       "\n",
       "    .dataframe tbody tr th {\n",
       "        vertical-align: top;\n",
       "    }\n",
       "\n",
       "    .dataframe thead th {\n",
       "        text-align: right;\n",
       "    }\n",
       "</style>\n",
       "<table border=\"1\" class=\"dataframe\">\n",
       "  <thead>\n",
       "    <tr style=\"text-align: right;\">\n",
       "      <th></th>\n",
       "      <th>Nama</th>\n",
       "      <th>pekerjaan</th>\n",
       "      <th>usia</th>\n",
       "    </tr>\n",
       "  </thead>\n",
       "  <tbody>\n",
       "    <tr>\n",
       "      <th>0</th>\n",
       "      <td>imed</td>\n",
       "      <td>Ekonom</td>\n",
       "      <td>30</td>\n",
       "    </tr>\n",
       "    <tr>\n",
       "      <th>1</th>\n",
       "      <td>krisna</td>\n",
       "      <td>kontraktor</td>\n",
       "      <td>27</td>\n",
       "    </tr>\n",
       "    <tr>\n",
       "      <th>2</th>\n",
       "      <td>wisnu</td>\n",
       "      <td>pelajar</td>\n",
       "      <td>19</td>\n",
       "    </tr>\n",
       "    <tr>\n",
       "      <th>3</th>\n",
       "      <td>gupta</td>\n",
       "      <td>tukang baso</td>\n",
       "      <td>25</td>\n",
       "    </tr>\n",
       "  </tbody>\n",
       "</table>\n",
       "</div>"
      ],
      "text/plain": [
       "     Nama    pekerjaan  usia\n",
       "0    imed       Ekonom    30\n",
       "1  krisna   kontraktor    27\n",
       "2   wisnu      pelajar    19\n",
       "3   gupta  tukang baso    25"
      ]
     },
     "execution_count": 7,
     "metadata": {},
     "output_type": "execute_result"
    }
   ],
   "source": [
    "# jadikan data ke dalam dataframe\n",
    "df = pd.DataFrame(data) \n",
    "  \n",
    "# Print. \n",
    "df "
   ]
  },
  {
   "cell_type": "code",
   "execution_count": null,
   "metadata": {},
   "outputs": [],
   "source": []
  }
 ],
 "metadata": {
  "kernelspec": {
   "display_name": "Python 3",
   "language": "python",
   "name": "python3"
  },
  "language_info": {
   "codemirror_mode": {
    "name": "ipython",
    "version": 3
   },
   "file_extension": ".py",
   "mimetype": "text/x-python",
   "name": "python",
   "nbconvert_exporter": "python",
   "pygments_lexer": "ipython3",
   "version": "3.7.7"
  },
  "latex_envs": {
   "LaTeX_envs_menu_present": true,
   "autoclose": false,
   "autocomplete": true,
   "bibliofile": "biblio.bib",
   "cite_by": "apalike",
   "current_citInitial": 1,
   "eqLabelWithNumbers": true,
   "eqNumInitial": 1,
   "hotkeys": {
    "equation": "Ctrl-E",
    "itemize": "Ctrl-I"
   },
   "labels_anchors": false,
   "latex_user_defs": false,
   "report_style_numbering": false,
   "user_envs_cfg": false
  }
 },
 "nbformat": 4,
 "nbformat_minor": 4
}
