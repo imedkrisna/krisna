{
 "cells": [
  {
   "cell_type": "markdown",
   "metadata": {},
   "source": [
    "---\n",
    "date: \"2020-08-20T00:00:00+01:00\"\n",
    "draft: false\n",
    "linktitle: Numpy\n",
    "menu:\n",
    "  example:\n",
    "    parent: Memulai dengan Python \n",
    "    weight: 2\n",
    "title: Menggunakan Numpy\n",
    "toc: true\n",
    "type: docs\n",
    "weight: 2\n",
    "editable: false\n",
    "commentable: false\n",
    "---\n",
    "\n",
    "## Apa itu Numpy?\n",
    "Numpy adalah salah satu *library* atau paket yang berguna untuk melakukan manipulasi angka / matematika. Dengan Numpy, kita tidak harus mengetik dengan bahasa *native* python yang lumayan njelimet, dan cukup panggil fungsi-fungsi di Numpy dengan bahasa yang lebih simpel. Tidak hanya itu, Numpy sangat esensial untuk mempercepat computing anda. Jika anda serius ingin menjadi tukang model, maka anda akan menulis program yang panjang banget. Perbedaannya sangat terasa semakin panjang program yang anda tulis.\n",
    "\n",
    "Untuk memanggil Numpy, biasanya kita menulis:\n",
    "\n",
    "```python\n",
    "import numpy as np\n",
    "```\n",
    "setelah itu, semua fungsi di numpy harus diketik didahului dengan `np`.\n",
    "\n",
    "Konten dari bagian ini diambil dari situs belajar Python untuk ekonom gratisan, [Quantecon](https://python-programming.quantecon.org/). Saya hanya menulis yang penting-penting aja untuk praktis, tapi jika anda ingin belajar lebih jauh, sangat disarankan melirik kontek Quantecon.\n",
    "\n",
    "#### Array processing\n",
    "Salah satu yang membuat Numpy begitu cepat adalah apa yang disebut dengan *array processing*. Array-nya Numpy bentuknya agak mirip `list`-nya python, tapi dapat diproses dengan jauh lebih cepat. Dalam memproses matrix algrebra, pakai Numpy jelas lebih efisien."
   ]
  },
  {
   "cell_type": "code",
   "execution_count": 8,
   "metadata": {},
   "outputs": [
    {
     "data": {
      "text/plain": [
       "array([0., 0., 0.])"
      ]
     },
     "execution_count": 8,
     "metadata": {},
     "output_type": "execute_result"
    }
   ],
   "source": [
    "import numpy as np\n",
    "# membuat array berisi 0\n",
    "a = np.zeros(3)\n",
    "a"
   ]
  },
  {
   "cell_type": "code",
   "execution_count": 3,
   "metadata": {},
   "outputs": [
    {
     "data": {
      "text/plain": [
       "numpy.ndarray"
      ]
     },
     "execution_count": 3,
     "metadata": {},
     "output_type": "execute_result"
    }
   ],
   "source": [
    "type(a)"
   ]
  },
  {
   "cell_type": "markdown",
   "metadata": {},
   "source": [
    "seperti anda lihat di atas, tipe dari $a$ adalah `numpy.ndarray`.\n",
    "\n",
    "array di Numpy harus berbentuk sama semua. Jika `list` python dapat berupa macem-macem (misalnya 1 list bisa diisi integer, boolean maupun string), numpy array semuanya harus berbentuk sama. Integer semua, string semua, dst.\n",
    "\n",
    "Coba kita cek tipe data dari setiap elemen di array $a$"
   ]
  },
  {
   "cell_type": "code",
   "execution_count": 12,
   "metadata": {},
   "outputs": [
    {
     "data": {
      "text/plain": [
       "numpy.float64"
      ]
     },
     "metadata": {},
     "output_type": "display_data"
    },
    {
     "data": {
      "text/plain": [
       "numpy.float64"
      ]
     },
     "metadata": {},
     "output_type": "display_data"
    },
    {
     "data": {
      "text/plain": [
       "numpy.float64"
      ]
     },
     "metadata": {},
     "output_type": "display_data"
    }
   ],
   "source": [
    "display(type(a[0]),\n",
    "        type(a[1]),\n",
    "        type(a[2]))"
   ]
  },
  {
   "cell_type": "markdown",
   "metadata": {},
   "source": [
    "Seperti dapat dilihat di atas, semua elemen di array $a$ memiliki tipe `float64`. Jadi, $a$ adalah array dengan tipe `numpy.ndarray`, sementara elemen dari array $a$ adalah tiga 0 dengan tipe `float64`. Tipe `float64` adalah *default* jika kita tidak memberi tahu Numpy tipe apa yang kita inginkan.\n",
    "\n",
    "Seperti kita ketahui, kita menggunakan `float` jika ingin menghitung bilangan bulat (ada koma-koma). Biasanya sih kita sering memakai tipe ini. Tapi jika anda ingin memodelkan sesuatu yang diskrit (bilangan asli), maka kita harus menjadikan anggota $a$ sebagai `int`. "
   ]
  },
  {
   "cell_type": "code",
   "execution_count": 14,
   "metadata": {},
   "outputs": [
    {
     "data": {
      "text/plain": [
       "numpy.int32"
      ]
     },
     "execution_count": 14,
     "metadata": {},
     "output_type": "execute_result"
    }
   ],
   "source": [
    "b=np.zeros(3,dtype=int)\n",
    "type(b[0])"
   ]
  },
  {
   "cell_type": "markdown",
   "metadata": {},
   "source": [
    "#### Bentuk dan dimensi\n",
    "Fungsi di atas tidak memberikan bentuk maupun dimensi pada array $a$ dan array $b$ kita. Tentu saja kita butuh mengutik-utik bentuk array kita jika kita mau melakukan manipulasi matrix algebra. Untuk memberi dimensi pada array anda, gunakan fungsi `shape`."
   ]
  },
  {
   "cell_type": "code",
   "execution_count": 15,
   "metadata": {},
   "outputs": [
    {
     "data": {
      "text/plain": [
       "array([[0.],\n",
       "       [0.],\n",
       "       [0.],\n",
       "       [0.],\n",
       "       [0.],\n",
       "       [0.],\n",
       "       [0.],\n",
       "       [0.],\n",
       "       [0.]])"
      ]
     },
     "execution_count": 15,
     "metadata": {},
     "output_type": "execute_result"
    }
   ],
   "source": [
    "# Membuat sembilan elemen 0\n",
    "c=np.zeros(9)\n",
    "\n",
    "# membentuk c menjadi vektor (9,1)\n",
    "c.shape=(9,1)\n",
    "c"
   ]
  },
  {
   "cell_type": "code",
   "execution_count": 17,
   "metadata": {},
   "outputs": [
    {
     "data": {
      "text/plain": [
       "array([[0., 0., 0., 0., 0., 0., 0., 0., 0.]])"
      ]
     },
     "execution_count": 17,
     "metadata": {},
     "output_type": "execute_result"
    }
   ],
   "source": [
    "# membentuk c menjadi vektor (1,9)\n",
    "c.shape=(1,9)\n",
    "c"
   ]
  },
  {
   "cell_type": "code",
   "execution_count": 18,
   "metadata": {},
   "outputs": [
    {
     "data": {
      "text/plain": [
       "array([[0., 0., 0.],\n",
       "       [0., 0., 0.],\n",
       "       [0., 0., 0.]])"
      ]
     },
     "execution_count": 18,
     "metadata": {},
     "output_type": "execute_result"
    }
   ],
   "source": [
    "# Membentuk c menjadi matrix n x n (sama sisi)\n",
    "c.shape=(3,3)\n",
    "c"
   ]
  },
  {
   "cell_type": "markdown",
   "metadata": {},
   "source": [
    "Selain `np.zeros`, kita juga dapat menciptakan array spesial dengan menggunakan metode lain. Misalnya, `np.ones` akan membuat array yang isinya satu semua. `np.empty` menciptakan array kosong yang nantinya harus kita isi sendiri. Untuk membuat matrix identitas, kita gunakan `np.identity(n)` atau `np.eye(n)` di mana n adalah dimensi matrix identitas yang diinginkan. `np.linspace(a,b,c)` akan membuat sebuah array lurus yang secara merata mengisi angka di antara a dan b, sebanyak c unit."
   ]
  },
  {
   "cell_type": "code",
   "execution_count": 20,
   "metadata": {},
   "outputs": [
    {
     "data": {
      "text/plain": [
       "array([1., 2., 3., 4., 5.])"
      ]
     },
     "execution_count": 20,
     "metadata": {},
     "output_type": "execute_result"
    }
   ],
   "source": [
    "np.linspace(1,5,5) # akan berisi array dengan 5 elemen di antara 1 dan 5"
   ]
  },
  {
   "cell_type": "code",
   "execution_count": 74,
   "metadata": {},
   "outputs": [
    {
     "data": {
      "text/plain": [
       "array([1. , 1.5, 2. , 2.5, 3. , 3.5, 4. , 4.5, 5. ])"
      ]
     },
     "execution_count": 74,
     "metadata": {},
     "output_type": "execute_result"
    }
   ],
   "source": [
    "np.linspace(1,5,9) # akan berisi array dengan 9 elemen di antara 1 dan 5"
   ]
  },
  {
   "cell_type": "code",
   "execution_count": null,
   "metadata": {},
   "outputs": [],
   "source": []
  }
 ],
 "metadata": {
  "kernelspec": {
   "display_name": "Python 3",
   "language": "python",
   "name": "python3"
  },
  "language_info": {
   "codemirror_mode": {
    "name": "ipython",
    "version": 3
   },
   "file_extension": ".py",
   "mimetype": "text/x-python",
   "name": "python",
   "nbconvert_exporter": "python",
   "pygments_lexer": "ipython3",
   "version": "3.7.7"
  },
  "latex_envs": {
   "LaTeX_envs_menu_present": true,
   "autoclose": false,
   "autocomplete": true,
   "bibliofile": "biblio.bib",
   "cite_by": "apalike",
   "current_citInitial": 1,
   "eqLabelWithNumbers": true,
   "eqNumInitial": 1,
   "hotkeys": {
    "equation": "Ctrl-E",
    "itemize": "Ctrl-I"
   },
   "labels_anchors": false,
   "latex_user_defs": false,
   "report_style_numbering": false,
   "user_envs_cfg": false
  }
 },
 "nbformat": 4,
 "nbformat_minor": 4
}
