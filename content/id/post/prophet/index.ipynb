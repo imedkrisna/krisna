{
 "cells": [
  {
   "cell_type": "markdown",
   "metadata": {},
   "source": [
    "---\n",
    "# Documentation: https://wowchemy.com/docs/managing-content/\n",
    "\n",
    "title: \"Menggunakan Facebook Prophet untuk meramal harga beras\"\n",
    "subtitle: \"\"\n",
    "summary: \"\"\n",
    "authors: [admin] \n",
    "tags: [perdagangan, ekonomi]\n",
    "categories: []\n",
    "date: 2025-08-02T11:00:00+07:00\n",
    "lastmod: 2025-08-02T11:00:00+07:00\n",
    "featured: false\n",
    "draft: false\n",
    "\n",
    "# Featured image\n",
    "# To use, add an image named `featured.jpg/png` to your page's folder.\n",
    "# Focal points: Smart, Center, TopLeft, Top, TopRight, Left, Right, BottomLeft, Bottom, BottomRight.\n",
    "image:\n",
    "  caption: \"\"\n",
    "  focal_point: \"\"\n",
    "  preview_only: false\n",
    "\n",
    "# Projects (optional).\n",
    "#   Associate this post with one or more of your projects.\n",
    "#   Simply enter your project's folder or file name without extension.\n",
    "#   E.g. `projects = [\"internal-project\"]` references `content/project/deep-learning/index.md`.\n",
    "#   Otherwise, set `projects = []`.\n",
    "projects: []\n",
    "---\n",
    "\n"
   ]
  },
  {
   "cell_type": "code",
   "execution_count": 29,
   "metadata": {},
   "outputs": [],
   "source": [
    "# Bikin class dulu\n",
    "# Optimisasi sudah dilakukan dengan tangan di atas, jadi class-nya ga perlu optimisasi lagi. tinggal kalkulasi biasa.\n",
    "import pandas as pd\n",
    "import plotly.express as px\n",
    "from prophet import Prophet\n",
    "\n",
    "df = pd.read_excel('beras.xlsx')\n",
    "df['month'] = pd.Series(pd.date_range(start='2018-07-01', end='2025-05-10', freq='ME'))\n",
    "dfl=df.melt(id_vars=['month'], var_name='jenis', value_name='harga')\n",
    "fig = px.line(dfl, x=\"month\", y=\"harga\", title='harga beras bulanan (PIHPS)',color='jenis',\n",
    "              color_discrete_sequence=px.colors.qualitative.G10,template='plotly_dark')\n",
    "fig.write_html('wew.html', full_html=False, include_plotlyjs='cdn')"
   ]
  },
  {
   "cell_type": "code",
   "execution_count": 37,
   "id": "68008e66",
   "metadata": {},
   "outputs": [
    {
     "name": "stderr",
     "output_type": "stream",
     "text": [
      "11:14:51 - cmdstanpy - INFO - Chain [1] start processing\n",
      "11:14:51 - cmdstanpy - INFO - Chain [1] done processing\n",
      "11:14:51 - cmdstanpy - ERROR - Chain [1] error: terminated by signal 3221225657 \n"
     ]
    },
    {
     "ename": "RuntimeError",
     "evalue": "Error during optimization! Command 'C:\\Users\\PC\\anaconda3\\Lib\\site-packages\\prophet\\stan_model\\prophet_model.bin random seed=35018 data file=C:\\Users\\PC\\AppData\\Local\\Temp\\tmp3ys49ec9\\ifav61yl.json init=C:\\Users\\PC\\AppData\\Local\\Temp\\tmp3ys49ec9\\p40rftvg.json output file=C:\\Users\\PC\\AppData\\Local\\Temp\\tmp3ys49ec9\\prophet_modelrdil9rl8\\prophet_model-20250802111451.csv method=optimize algorithm=newton iter=10000' failed: ",
     "output_type": "error",
     "traceback": [
      "\u001b[1;31m---------------------------------------------------------------------------\u001b[0m",
      "\u001b[1;31mRuntimeError\u001b[0m                              Traceback (most recent call last)",
      "Cell \u001b[1;32mIn[37], line 4\u001b[0m\n\u001b[0;32m      2\u001b[0m df[\u001b[38;5;124m'\u001b[39m\u001b[38;5;124mds\u001b[39m\u001b[38;5;124m'\u001b[39m] \u001b[38;5;241m=\u001b[39m pd\u001b[38;5;241m.\u001b[39mSeries(pd\u001b[38;5;241m.\u001b[39mdate_range(start\u001b[38;5;241m=\u001b[39m\u001b[38;5;124m'\u001b[39m\u001b[38;5;124m2018-07-01\u001b[39m\u001b[38;5;124m'\u001b[39m, end\u001b[38;5;241m=\u001b[39m\u001b[38;5;124m'\u001b[39m\u001b[38;5;124m2025-05-10\u001b[39m\u001b[38;5;124m'\u001b[39m, freq\u001b[38;5;241m=\u001b[39m\u001b[38;5;124m'\u001b[39m\u001b[38;5;124mME\u001b[39m\u001b[38;5;124m'\u001b[39m))\n\u001b[0;32m      3\u001b[0m m\u001b[38;5;241m=\u001b[39mProphet()\n\u001b[1;32m----> 4\u001b[0m m\u001b[38;5;241m.\u001b[39mfit(df)\n",
      "File \u001b[1;32mc:\\Users\\PC\\anaconda3\\Lib\\site-packages\\prophet\\forecaster.py:1232\u001b[0m, in \u001b[0;36mProphet.fit\u001b[1;34m(self, df, **kwargs)\u001b[0m\n\u001b[0;32m   1230\u001b[0m     \u001b[38;5;28mself\u001b[39m\u001b[38;5;241m.\u001b[39mparams \u001b[38;5;241m=\u001b[39m \u001b[38;5;28mself\u001b[39m\u001b[38;5;241m.\u001b[39mstan_backend\u001b[38;5;241m.\u001b[39msampling(stan_init, dat, \u001b[38;5;28mself\u001b[39m\u001b[38;5;241m.\u001b[39mmcmc_samples, \u001b[38;5;241m*\u001b[39m\u001b[38;5;241m*\u001b[39mkwargs)\n\u001b[0;32m   1231\u001b[0m \u001b[38;5;28;01melse\u001b[39;00m:\n\u001b[1;32m-> 1232\u001b[0m     \u001b[38;5;28mself\u001b[39m\u001b[38;5;241m.\u001b[39mparams \u001b[38;5;241m=\u001b[39m \u001b[38;5;28mself\u001b[39m\u001b[38;5;241m.\u001b[39mstan_backend\u001b[38;5;241m.\u001b[39mfit(stan_init, dat, \u001b[38;5;241m*\u001b[39m\u001b[38;5;241m*\u001b[39mkwargs)\n\u001b[0;32m   1234\u001b[0m \u001b[38;5;28mself\u001b[39m\u001b[38;5;241m.\u001b[39mstan_fit \u001b[38;5;241m=\u001b[39m \u001b[38;5;28mself\u001b[39m\u001b[38;5;241m.\u001b[39mstan_backend\u001b[38;5;241m.\u001b[39mstan_fit\n\u001b[0;32m   1235\u001b[0m \u001b[38;5;66;03m# If no changepoints were requested, replace delta with 0s\u001b[39;00m\n",
      "File \u001b[1;32mc:\\Users\\PC\\anaconda3\\Lib\\site-packages\\prophet\\models.py:125\u001b[0m, in \u001b[0;36mCmdStanPyBackend.fit\u001b[1;34m(self, stan_init, stan_data, **kwargs)\u001b[0m\n\u001b[0;32m    122\u001b[0m \u001b[38;5;28;01mexcept\u001b[39;00m \u001b[38;5;167;01mRuntimeError\u001b[39;00m \u001b[38;5;28;01mas\u001b[39;00m e:\n\u001b[0;32m    123\u001b[0m     \u001b[38;5;66;03m# Fall back on Newton\u001b[39;00m\n\u001b[0;32m    124\u001b[0m     \u001b[38;5;28;01mif\u001b[39;00m \u001b[38;5;129;01mnot\u001b[39;00m \u001b[38;5;28mself\u001b[39m\u001b[38;5;241m.\u001b[39mnewton_fallback \u001b[38;5;129;01mor\u001b[39;00m args[\u001b[38;5;124m'\u001b[39m\u001b[38;5;124malgorithm\u001b[39m\u001b[38;5;124m'\u001b[39m] \u001b[38;5;241m==\u001b[39m \u001b[38;5;124m'\u001b[39m\u001b[38;5;124mNewton\u001b[39m\u001b[38;5;124m'\u001b[39m:\n\u001b[1;32m--> 125\u001b[0m         \u001b[38;5;28;01mraise\u001b[39;00m e\n\u001b[0;32m    126\u001b[0m     logger\u001b[38;5;241m.\u001b[39mwarning(\u001b[38;5;124m'\u001b[39m\u001b[38;5;124mOptimization terminated abnormally. Falling back to Newton.\u001b[39m\u001b[38;5;124m'\u001b[39m)\n\u001b[0;32m    127\u001b[0m     args[\u001b[38;5;124m'\u001b[39m\u001b[38;5;124malgorithm\u001b[39m\u001b[38;5;124m'\u001b[39m] \u001b[38;5;241m=\u001b[39m \u001b[38;5;124m'\u001b[39m\u001b[38;5;124mNewton\u001b[39m\u001b[38;5;124m'\u001b[39m\n",
      "File \u001b[1;32mc:\\Users\\PC\\anaconda3\\Lib\\site-packages\\prophet\\models.py:121\u001b[0m, in \u001b[0;36mCmdStanPyBackend.fit\u001b[1;34m(self, stan_init, stan_data, **kwargs)\u001b[0m\n\u001b[0;32m    118\u001b[0m args\u001b[38;5;241m.\u001b[39mupdate(kwargs)\n\u001b[0;32m    120\u001b[0m \u001b[38;5;28;01mtry\u001b[39;00m:\n\u001b[1;32m--> 121\u001b[0m     \u001b[38;5;28mself\u001b[39m\u001b[38;5;241m.\u001b[39mstan_fit \u001b[38;5;241m=\u001b[39m \u001b[38;5;28mself\u001b[39m\u001b[38;5;241m.\u001b[39mmodel\u001b[38;5;241m.\u001b[39moptimize(\u001b[38;5;241m*\u001b[39m\u001b[38;5;241m*\u001b[39margs)\n\u001b[0;32m    122\u001b[0m \u001b[38;5;28;01mexcept\u001b[39;00m \u001b[38;5;167;01mRuntimeError\u001b[39;00m \u001b[38;5;28;01mas\u001b[39;00m e:\n\u001b[0;32m    123\u001b[0m     \u001b[38;5;66;03m# Fall back on Newton\u001b[39;00m\n\u001b[0;32m    124\u001b[0m     \u001b[38;5;28;01mif\u001b[39;00m \u001b[38;5;129;01mnot\u001b[39;00m \u001b[38;5;28mself\u001b[39m\u001b[38;5;241m.\u001b[39mnewton_fallback \u001b[38;5;129;01mor\u001b[39;00m args[\u001b[38;5;124m'\u001b[39m\u001b[38;5;124malgorithm\u001b[39m\u001b[38;5;124m'\u001b[39m] \u001b[38;5;241m==\u001b[39m \u001b[38;5;124m'\u001b[39m\u001b[38;5;124mNewton\u001b[39m\u001b[38;5;124m'\u001b[39m:\n",
      "File \u001b[1;32mc:\\Users\\PC\\anaconda3\\Lib\\site-packages\\cmdstanpy\\model.py:659\u001b[0m, in \u001b[0;36mCmdStanModel.optimize\u001b[1;34m(self, data, seed, inits, output_dir, sig_figs, save_profile, algorithm, init_alpha, tol_obj, tol_rel_obj, tol_grad, tol_rel_grad, tol_param, history_size, iter, save_iterations, require_converged, show_console, refresh, time_fmt, timeout, jacobian)\u001b[0m\n\u001b[0;32m    657\u001b[0m         get_logger()\u001b[38;5;241m.\u001b[39mwarning(msg)\n\u001b[0;32m    658\u001b[0m     \u001b[38;5;28;01melse\u001b[39;00m:\n\u001b[1;32m--> 659\u001b[0m         \u001b[38;5;28;01mraise\u001b[39;00m \u001b[38;5;167;01mRuntimeError\u001b[39;00m(msg)\n\u001b[0;32m    660\u001b[0m mle \u001b[38;5;241m=\u001b[39m CmdStanMLE(runset)\n\u001b[0;32m    661\u001b[0m \u001b[38;5;28;01mreturn\u001b[39;00m mle\n",
      "\u001b[1;31mRuntimeError\u001b[0m: Error during optimization! Command 'C:\\Users\\PC\\anaconda3\\Lib\\site-packages\\prophet\\stan_model\\prophet_model.bin random seed=35018 data file=C:\\Users\\PC\\AppData\\Local\\Temp\\tmp3ys49ec9\\ifav61yl.json init=C:\\Users\\PC\\AppData\\Local\\Temp\\tmp3ys49ec9\\p40rftvg.json output file=C:\\Users\\PC\\AppData\\Local\\Temp\\tmp3ys49ec9\\prophet_modelrdil9rl8\\prophet_model-20250802111451.csv method=optimize algorithm=newton iter=10000' failed: "
     ]
    }
   ],
   "source": [
    "df = pd.read_excel('beras.xlsx',sheet_name='fit')\n",
    "df['ds'] = pd.Series(pd.date_range(start='2018-07-01', end='2025-05-10', freq='ME'))\n",
    "m=Prophet()\n",
    "m.fit(df)"
   ]
  },
  {
   "cell_type": "markdown",
   "id": "f1c6c6c3",
   "metadata": {},
   "source": [
    "Kita tes modelnya yuk. Pertama, run kode di atas, lalu run default parameters dengan cara di bawah ini."
   ]
  },
  {
   "cell_type": "markdown",
   "id": "f3a01017",
   "metadata": {},
   "source": [
    "Sesuai prediksi, harga A (pangan) lebih tinggi daripada harga B (sandang) karena ekonomi negara ini lebih produktif membuat sandang daripada pangan.\n",
    "\n",
    "Tentu saja kita bisa coba pakai angka lain. Let's say kita punya negara lain dengan karakteristik jumlah tenaga kerja 400 juta orang dan relatif lebih produktif agrikulturnya daripada pakaian jadi-nya. Oh, kita juga bisa misalkan wage level di negara ini lebih tinggi 3x lipat daripada negara sebelah."
   ]
  },
  {
   "cell_type": "code",
   "execution_count": 5,
   "id": "290ab921",
   "metadata": {},
   "outputs": [
    {
     "name": "stdout",
     "output_type": "stream",
     "text": [
      "Goods market: \n",
      " harga A adalah 3.75 dan harga B adalah 15.00 \n",
      " Jumlah produksi (A,B) adalah (160.0, 40.0) \n",
      "Labor market: \n",
      " gaji adalah 3.00 \n",
      " dari total 400.00 pekerja, sebanyak 200.00 bekerja di industri A dan 200.00 di industri B \n",
      "makro: \n",
      " PDB nominal adalah 1,200.00 dan 3.00 per kapita  \n",
      " PDB riil adalah 200.00 dan 0.50 per kapita \n",
      " level harga adalah 6.00 \n",
      " welfare di negara ini adalah 80.00 dan 0.20 per kapita \n"
     ]
    }
   ],
   "source": [
    "ekon(L=400,w=3,f=0.8,g=0.2).hasil()"
   ]
  },
  {
   "cell_type": "markdown",
   "id": "d6a57066",
   "metadata": {},
   "source": [
    "Katakanlah negara pertama kita sebut Home (H) sementara negara ke-2 kita sebut Foreign (F). Ciri utama adalah negara F lebih besar (400 pekerja dibanding 200) dan lebih produktif di agrikultur ketimbang garmen. Kita langsung lihat bahwa negara H membuat A=25 dan B=75, lebih condong banyak bikin B. Sementara itu, negara F lebih berat ke A, membuat A sebanyak 160 sementara B sebanyak 40, atau perbedaan 4 kali lipat.\n",
    "\n",
    "Kita juga bisa bereksperimen dengan karakteristik lain, misalnya negara F lebih suka garmen sehingga $\\beta=0.7$ sementara $\\alpha=0.3$, dan lain sebagainya.\n",
    "\n",
    "Nah pertanyaan lebih menariknya adalah, apa yang terjadi kalau kedua negara ini melakukan trade? Ntar ya saya bikinin lagi kalo postingan ini rame wkwk."
   ]
  }
 ],
 "metadata": {
  "kernelspec": {
   "display_name": "base",
   "language": "python",
   "name": "python3"
  },
  "language_info": {
   "codemirror_mode": {
    "name": "ipython",
    "version": 3
   },
   "file_extension": ".py",
   "mimetype": "text/x-python",
   "name": "python",
   "nbconvert_exporter": "python",
   "pygments_lexer": "ipython3",
   "version": "3.13.5"
  },
  "latex_envs": {
   "LaTeX_envs_menu_present": true,
   "autoclose": false,
   "autocomplete": true,
   "bibliofile": "biblio.bib",
   "cite_by": "apalike",
   "current_citInitial": 1,
   "eqLabelWithNumbers": true,
   "eqNumInitial": 1,
   "hotkeys": {
    "equation": "Ctrl-E",
    "itemize": "Ctrl-I"
   },
   "labels_anchors": false,
   "latex_user_defs": false,
   "report_style_numbering": false,
   "user_envs_cfg": false
  }
 },
 "nbformat": 4,
 "nbformat_minor": 5
}
