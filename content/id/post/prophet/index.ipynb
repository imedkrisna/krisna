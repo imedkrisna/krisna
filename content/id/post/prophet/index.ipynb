{
 "cells": [
  {
   "cell_type": "markdown",
   "metadata": {},
   "source": [
    "---\n",
    "# Documentation: https://wowchemy.com/docs/managing-content/\n",
    "\n",
    "title: \"Menggunakan Facebook Prophet untuk meramal harga beras\"\n",
    "subtitle: \"\"\n",
    "summary: \"\"\n",
    "authors: [admin] \n",
    "tags: [perdagangan, ekonomi]\n",
    "categories: []\n",
    "date: 2025-08-02T11:00:00+07:00\n",
    "lastmod: 2025-08-02T11:00:00+07:00\n",
    "featured: false\n",
    "draft: false\n",
    "\n",
    "# Featured image\n",
    "# To use, add an image named `featured.jpg/png` to your page's folder.\n",
    "# Focal points: Smart, Center, TopLeft, Top, TopRight, Left, Right, BottomLeft, Bottom, BottomRight.\n",
    "image:\n",
    "  caption: \"\"\n",
    "  focal_point: \"\"\n",
    "  preview_only: false\n",
    "\n",
    "# Projects (optional).\n",
    "#   Associate this post with one or more of your projects.\n",
    "#   Simply enter your project's folder or file name without extension.\n",
    "#   E.g. `projects = [\"internal-project\"]` references `content/project/deep-learning/index.md`.\n",
    "#   Otherwise, set `projects = []`.\n",
    "projects: []\n",
    "---\n",
    "\n"
   ]
  },
  {
   "cell_type": "code",
   "execution_count": 3,
   "metadata": {},
   "outputs": [],
   "source": [
    "# Bikin class dulu\n",
    "# Optimisasi sudah dilakukan dengan tangan di atas, jadi class-nya ga perlu optimisasi lagi. tinggal kalkulasi biasa.\n",
    "import pandas as pd\n",
    "import numpy as np\n",
    "\n",
    "class ekon:\n",
    "  r\"\"\"\n",
    "  \n",
    "  toy model of a closed economy with fixed number of labor, fixed productivity, 2 goods A and B, 1 factor of production.\n",
    "\n",
    "  \n",
    "\n",
    "  \"\"\"\n",
    "  \n",
    "  def __init__(self, L=200, ## kasih nilai default untuk 6 parameter eksogen\n",
    "                     f=0.25,\n",
    "                     g=0.75,\n",
    "                     alpha=0.5,\n",
    "                     beta=0.5,\n",
    "                     w=1,\n",
    "\n",
    "                     \n",
    "                     ):\n",
    "    self.L,self.f,self.g,self.alpha,self.beta,self.w=L,f,g,alpha,beta,w\n",
    "    \n",
    "  def hasil(self):\n",
    "    L,f,g,alpha,beta,w=self.L,self.f,self.g,self.alpha,self.beta,self.w\n",
    "    LA=alpha/(alpha+beta)*L\n",
    "    LB=beta/(alpha+beta)*L\n",
    "    A=f*LA\n",
    "    B=g*LB\n",
    "    U=(A**alpha)*(B**beta)\n",
    "    pa=w/f\n",
    "    pb=w/g\n",
    "    p=pa*(A/(A+B))+pb*(B/(A+B))\n",
    "    npdb=pa*A+pb*B\n",
    "    pdb=npdb/p\n",
    "    return print(f'Goods market: \\n harga A adalah {pa:,.2f} dan harga B adalah {pb:,.2f} \\n Jumlah produksi (A,B) adalah {(A,B)} \\nLabor market: \\n gaji adalah {w:,.2f} \\n dari total {L:,.2f} pekerja, sebanyak {LA:,.2f} bekerja di industri A dan {LB:,.2f} di industri B \\nmakro: \\n PDB nominal adalah {npdb:,.2f} dan {npdb/L:,.2f} per kapita  \\n PDB riil adalah {pdb:,.2f} dan {pdb/L:,.2f} per kapita \\n level harga adalah {p:,.2f} \\n welfare di negara ini adalah {U:,.2f} dan {U/L:,.2f} per kapita ')"
   ]
  },
  {
   "cell_type": "markdown",
   "id": "f1c6c6c3",
   "metadata": {},
   "source": [
    "Kita tes modelnya yuk. Pertama, run kode di atas, lalu run default parameters dengan cara di bawah ini."
   ]
  },
  {
   "cell_type": "code",
   "execution_count": 4,
   "id": "5781c759",
   "metadata": {},
   "outputs": [
    {
     "name": "stdout",
     "output_type": "stream",
     "text": [
      "Goods market: \n",
      " harga A adalah 4.00 dan harga B adalah 1.33 \n",
      " Jumlah produksi (A,B) adalah (25.0, 75.0) \n",
      "Labor market: \n",
      " gaji adalah 1.00 \n",
      " dari total 200.00 pekerja, sebanyak 100.00 bekerja di industri A dan 100.00 di industri B \n",
      "makro: \n",
      " PDB nominal adalah 200.00 dan 1.00 per kapita  \n",
      " PDB riil adalah 100.00 dan 0.50 per kapita \n",
      " level harga adalah 2.00 \n",
      " welfare di negara ini adalah 43.30 dan 0.22 per kapita \n"
     ]
    }
   ],
   "source": [
    "ekon().hasil()"
   ]
  },
  {
   "cell_type": "markdown",
   "id": "f3a01017",
   "metadata": {},
   "source": [
    "Sesuai prediksi, harga A (pangan) lebih tinggi daripada harga B (sandang) karena ekonomi negara ini lebih produktif membuat sandang daripada pangan.\n",
    "\n",
    "Tentu saja kita bisa coba pakai angka lain. Let's say kita punya negara lain dengan karakteristik jumlah tenaga kerja 400 juta orang dan relatif lebih produktif agrikulturnya daripada pakaian jadi-nya. Oh, kita juga bisa misalkan wage level di negara ini lebih tinggi 3x lipat daripada negara sebelah."
   ]
  },
  {
   "cell_type": "code",
   "execution_count": 5,
   "id": "290ab921",
   "metadata": {},
   "outputs": [
    {
     "name": "stdout",
     "output_type": "stream",
     "text": [
      "Goods market: \n",
      " harga A adalah 3.75 dan harga B adalah 15.00 \n",
      " Jumlah produksi (A,B) adalah (160.0, 40.0) \n",
      "Labor market: \n",
      " gaji adalah 3.00 \n",
      " dari total 400.00 pekerja, sebanyak 200.00 bekerja di industri A dan 200.00 di industri B \n",
      "makro: \n",
      " PDB nominal adalah 1,200.00 dan 3.00 per kapita  \n",
      " PDB riil adalah 200.00 dan 0.50 per kapita \n",
      " level harga adalah 6.00 \n",
      " welfare di negara ini adalah 80.00 dan 0.20 per kapita \n"
     ]
    }
   ],
   "source": [
    "ekon(L=400,w=3,f=0.8,g=0.2).hasil()"
   ]
  },
  {
   "cell_type": "markdown",
   "id": "d6a57066",
   "metadata": {},
   "source": [
    "Katakanlah negara pertama kita sebut Home (H) sementara negara ke-2 kita sebut Foreign (F). Ciri utama adalah negara F lebih besar (400 pekerja dibanding 200) dan lebih produktif di agrikultur ketimbang garmen. Kita langsung lihat bahwa negara H membuat A=25 dan B=75, lebih condong banyak bikin B. Sementara itu, negara F lebih berat ke A, membuat A sebanyak 160 sementara B sebanyak 40, atau perbedaan 4 kali lipat.\n",
    "\n",
    "Kita juga bisa bereksperimen dengan karakteristik lain, misalnya negara F lebih suka garmen sehingga $\\beta=0.7$ sementara $\\alpha=0.3$, dan lain sebagainya.\n",
    "\n",
    "Nah pertanyaan lebih menariknya adalah, apa yang terjadi kalau kedua negara ini melakukan trade? Ntar ya saya bikinin lagi kalo postingan ini rame wkwk."
   ]
  }
 ],
 "metadata": {
  "kernelspec": {
   "display_name": "base",
   "language": "python",
   "name": "python3"
  },
  "language_info": {
   "codemirror_mode": {
    "name": "ipython",
    "version": 3
   },
   "file_extension": ".py",
   "mimetype": "text/x-python",
   "name": "python",
   "nbconvert_exporter": "python",
   "pygments_lexer": "ipython3",
   "version": "3.12.7"
  },
  "latex_envs": {
   "LaTeX_envs_menu_present": true,
   "autoclose": false,
   "autocomplete": true,
   "bibliofile": "biblio.bib",
   "cite_by": "apalike",
   "current_citInitial": 1,
   "eqLabelWithNumbers": true,
   "eqNumInitial": 1,
   "hotkeys": {
    "equation": "Ctrl-E",
    "itemize": "Ctrl-I"
   },
   "labels_anchors": false,
   "latex_user_defs": false,
   "report_style_numbering": false,
   "user_envs_cfg": false
  }
 },
 "nbformat": 4,
 "nbformat_minor": 5
}
