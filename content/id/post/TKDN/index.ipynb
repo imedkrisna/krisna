{
 "cells": [
  {
   "cell_type": "markdown",
   "id": "f3ff2e30",
   "metadata": {},
   "source": [
    "---\n",
    "# Documentation: https://wowchemy.com/docs/managing-content/\n",
    "\n",
    "title: \"Memodelkan TKDN secara sederhana\"\n",
    "subtitle: \"\"\n",
    "summary: \"\"\n",
    "authors: [admin]\n",
    "tags: [TKDN, perdagangan, industri, python]\n",
    "categories: [TKDN, perdagangan, industri, python]\n",
    "date: 2022-03-29T14:09:58+07:00\n",
    "lastmod: 2022-03-29T14:09:58+07:00\n",
    "featured: false\n",
    "draft: false\n",
    "\n",
    "# Featured image\n",
    "# To use, add an image named `featured.jpg/png` to your page's folder.\n",
    "# Focal points: Smart, Center, TopLeft, Top, TopRight, Left, Right, BottomLeft, Bottom, BottomRight.\n",
    "image:\n",
    "  caption: \"\"\n",
    "  focal_point: \"\"\n",
    "  preview_only: false\n",
    "\n",
    "# Projects (optional).\n",
    "#   Associate this post with one or more of your projects.\n",
    "#   Simply enter your project's folder or file name without extension.\n",
    "#   E.g. `projects = [\"internal-project\"]` references `content/project/deep-learning/index.md`.\n",
    "#   Otherwise, set `projects = []`.\n",
    "projects: []\n",
    "---\n",
    "\n",
    "# Intro\n",
    "Perbincangan tentang peningkatan penggunaan produk dalam negeri dan anti impor sudah sering bergaung di kalangan pejabat publik. Bahkan, belakangan ini rasanya perbincangan ini terdengar semakin sering. Tentu saja menggunakan barang-barang produksi dalam negeri adalah sesuatu yang tidak jelek. Salah satu instrumen yang sedang marak digunakan oleh Indonesia adalah TKDN.\n",
    "\n",
    "[TKDN](http://tkdn.kemenperin.go.id/), atau Tingkat Kandungan Dalam Negeri, mulai marak digunakan oleh Indonesia[^1]. TKDN, jika diwajibnkan untuk suatu industri, mengamanatkan batas minimal dari suatu produk akhir memiliki kandungan dalam negeri. Kandungan ini bisa berupa tenaga kerja, permesinan, sampai ke penggunaan bahan baku. Contohnya, [perangkat 5G](https://inet.detik.com/consumer/d-5782359/kata-samsung-tentang-ketentuan-tkdn-4g-dan-5g-jadi-35), pada April 2022, diwajibkan memenuhi TKDN 35%, yang artinya semua perangkat 5G yang beredar harus memiliki kandungan lokal minimal 35% (atau maksimal komponen impor maksimal 65%).\n",
    "\n",
    "TKDN mengakibatkan perusahaan tidak boleh lagi menjual barang impor. Barang tersebut harus diproduksi di dalam negeri. Komponennya boleh impor tapi tidak boleh banyak-banyak. Dengan TKDN, maka produsen diharapkan mendatangkan pabriknya ke Indonesia. Saya pernah menulis sedikit tentang efek ini di postingan saya [yang lain]({{< relref \"/post/hitektrade\" >}}).\n",
    "\n",
    "Beberapa alasan kenapa TKDN cukup populer terutama bagi pemerintahan adalah karena dia gratis (gak kaya subsidi yang memerlukan APBN). Selain itu, kebijakan anti impor biasanya sangat disukai oleh masyarakat, dan berpotensi meningkatkan popularitas politisi.\n",
    "\n",
    "Secara sepintas, memang sepertinya meningkatkan TKDN itu baik ya. Jika investasi datang ke Indonesia, maka akan ada value tambahan. Namun perlu dipahami bahwa konsep value itu tidaklah statik dan tidak _eksogen_. Value sebuah barang bisa naik dan bisa turun tergantung dari inputnya juga. Apakah, misalnya, perangkat 5G yang punya kandungan domestik tinggi ini sama bagusnya dengan jika perangkat tersebut diimpor? Apakah perangkat dengan TKDN tinggi bisa bersaing di pasar global? Apakah ada smelter berarti kita dapat value yang lebih tinggi [dari ekspor nikel saja](https://theconversation.com/klaim-sukses-hilirisasi-nikel-berbasis-larangan-ekspor-masih-memiliki-segudang-masalah-177735)?\n",
    "\n",
    "Jawabannya belum tentu. Beberapa artikel teoritis membedah konsep perubahan value dan produktivitas dari perusahaan intermediate input dan perusahaan final good[^2] [^3] [^4]. Memang ada tarik menarik antara keduanya, dan TKDN tidak otomatis menghasilkan keluaran yang seoptimal kelihatannya, apalagi jika TKDN tidak berhasil meningkatkan produktivitas sektor yang ia coba proteksi.\n",
    "\n",
    "Di postingan kali ini, saya mencoba ngasih gambaran dengan model yang sangat simpel tentang tarik-menarik value ini.\n",
    "\n",
    "# Model\n",
    "Anggaplah ada sebuah perusahaan produsen produk akhir yang seringkali membutuhkan barang impor. Barang impor ini sebenarnya bisa disubstitusi di dalam negeri, akan tetapi bagi si perusahaan, barang impor lebih murah dan memberikan nilai tambah yang lebih tinggi. Contoh dunia nyatanya mungkin seperti [kedelai](https://ekonomi.bisnis.com/read/20180829/99/832660/ini-alasan-kedelai-impor-lebih-digemari-produsen-tempe) atau [garam](https://bisnis.tempo.co/read/1071682/kenapa-kualitas-garam-lokal-untuk-industri-kalah-dibanding-impor).\n",
    "\n",
    "Jika kita cuma lihat keputusan produk input saja, maka si perusahaan punya fungsi produksi:\n",
    "\n",
    "$$F(M,N) = \\alpha M + N$$\n",
    "\n",
    "di mana $M$ adalah jumlah input yang diimpor dan $N$ adalah jumlah input yang dibeli di pasar domestik. Sementara itu, $\\alpha$ adalah kualitas bahan baku impor relatif terhadap bahan baku domestik. Jika $\\alpha > 1$ berarti barang impor punya kualitas lebih bagis. Kita juga akan mengasumsikan bahwa harga barang impor lebih murah daripada domestik ($P_M<P_N$). \n",
    "\n",
    "Si perusahaan ini diwajibkan untuk membeli barang mentah dari dalam negeri sebesar $k$:\n",
    "\n",
    "$$\n",
    "P_NN \\geq kP(\\alpha M + N) \\\\\n",
    "\\text{di mana } k \\in (0,1)\n",
    "$$\n",
    "\n",
    "Si perusahaan bermaksud memenuhi permintaan sebesar $F(M,N)=Q$ dengan biaya serendah mungkin. Artinya, si perusahaan memiliki problem:\n",
    "\n",
    "$$\n",
    "\\min P_MM+P_NN \\\\\n",
    "s.t. \\ \\alpha M+ N \\geq Q \\\\\n",
    "\\ \\ \\ \\ P_NN \\geq kP(\\alpha M + N) \\\\\n",
    "k \\in (0,1)\n",
    "$$\n",
    "\n",
    "Berhubung masalahnya linear, kita bisa pake `linprog`. Saya akan menggunakan parameter sebagau berikut:\n",
    "\n",
    "Pm=1\n",
    "Pn=3\n",
    "α=1.5\n",
    "δ=1\n",
    "k=0\n",
    "P=9\n",
    "Q=30\n",
    "\n",
    "Kita buat dulu fungsinya:"
   ]
  },
  {
   "cell_type": "code",
   "execution_count": 47,
   "id": "4e651e27",
   "metadata": {},
   "outputs": [],
   "source": [
    "from scipy.optimize import linprog\n",
    "def TKDN(Pm=1,Pn=3,α=1.5,δ=1,k=0,P=9,Q=30):\n",
    "    c_ex1 = np.array([Pm, Pn])\n",
    "    A_ex1 = np.array([[-α,-1],[k*P*α, k*P-Pn]])\n",
    "    b_ex1 = np.array([-δ*Q,0])\n",
    "    res_ex1 = linprog(c_ex1, A_ub=A_ex1, b_ub=b_ex1, method='revised simplex')\n",
    "    M=res_ex1['x'][0]\n",
    "    N=res_ex1['x'][1]\n",
    "    C=Pm*M+Pn*N\n",
    "    π=Q*P-C\n",
    "    return f\"impor bahan baku {M}, bahan baku domestik {N}. Total Material cost {C} dan profit {π}\""
   ]
  },
  {
   "cell_type": "markdown",
   "id": "036cd8b4",
   "metadata": {},
   "source": [
    "Untuk kasus tanpa TKDN, berarti kita set $k=0$:"
   ]
  },
  {
   "cell_type": "code",
   "execution_count": 48,
   "id": "a342e125",
   "metadata": {},
   "outputs": [
    {
     "data": {
      "text/plain": [
       "'impor bahan baku 20.0, bahan baku domestik 0.0. Total Material cost 20.0 dan profit 250.0'"
      ]
     },
     "execution_count": 48,
     "metadata": {},
     "output_type": "execute_result"
    }
   ],
   "source": [
    "TKDN(k=0)"
   ]
  },
  {
   "cell_type": "markdown",
   "id": "9c447bd9",
   "metadata": {},
   "source": [
    "Bagaimana dengan TKDN di mana konten domestik harus ada di angka 20% dari total nilai produk jadi?"
   ]
  },
  {
   "cell_type": "code",
   "execution_count": 49,
   "id": "4c0c7e4e",
   "metadata": {},
   "outputs": [
    {
     "data": {
      "text/plain": [
       "'impor bahan baku 8.0, bahan baku domestik 18.0. Total Material cost 62.0 dan profit 208.0'"
      ]
     },
     "execution_count": 49,
     "metadata": {},
     "output_type": "execute_result"
    }
   ],
   "source": [
    "TKDN(k=0.2)"
   ]
  },
  {
   "cell_type": "markdown",
   "id": "c9f49568",
   "metadata": {},
   "source": [
    "Seperti dapat kita lihat di atas, TKDN mengakibatkan perusahaan produk jadi mengalami penurunan profit dan kenaikan total cost. Namun demikian, penjual bahan baku domestik mendapatkan tambahan pemasukan sebanyak $18 \\times P_N$. Artinya, TKDN berpotensi menyenangkan penjual bahan baku domestik, akan tetapi merugikan penjual barang jadi.\n",
    "\n",
    "Ketika TKDN diset jadi 40%, modelnya crash alias si produk jadi mendingan ga produksi sama sekali wkwkw.\n",
    "\n",
    "Jika kita tabelkan, maka TKDN mulai dari 0 sampai 30$ (untuk setiap tambahan 10% TKDN) dapat dilihat di tabel di bawah\n",
    "\n",
    "| k | M | N | C | $\\pi$ |\n",
    "| --- | --- | --- | --- | --- |\n",
    "| 0 | 20 | 0 | 20 | 250 |\n",
    "| 10% | 14 | 9 | 41 | 229 |\n",
    "| 20% | 8 | 18 | 62 | 208 |\n",
    "| 30% | 2 | 27 | 83 | 187 |"
   ]
  },
  {
   "cell_type": "markdown",
   "id": "917dae59",
   "metadata": {},
   "source": [
    "Bagaimana dengan nilai tambah dalam negeri secara total? Walaupun TKDN berhasil menaikkan nilai tambah dari produsen bahan baku, namun nilai tambah dari produsen barang jadi berkurang. Dalam kasus TKDN=0, maka nilai tambah produsen bahan baku adalah 0, sementara profit produsen barang jadi adalah 250. Untuk TKDN 10%, bahan baku dapat nilai tambah 9 tetapi barang jadi kehilangan $250-229=21$. jadi secara total terjadi kekurangan nilai tambah.\n",
    "\n",
    "Bagaimana dengan pemerintah? Seandainya impor bebas bea, maka pemasukan pemerintah akan datang dari PPh badan atau *Corporate Income Tax*. Tentunya dengan TKDN=0 maka produsen bahan baku ga bayar pajak. Sementara itu, produsen barang jadi akan membayar PPh badan sebesar $t \\pi$ di mana $t$ adalah *tax rate*. Coba kita hitung jika tax rate adalah 20%, maka total penghasilan pemerintah adalah:"
   ]
  },
  {
   "cell_type": "code",
   "execution_count": 50,
   "id": "ba34c37c",
   "metadata": {},
   "outputs": [
    {
     "data": {
      "text/plain": [
       "'Govt revenues are 50.0, 47.6, 45.2, and 42.8'"
      ]
     },
     "execution_count": 50,
     "metadata": {},
     "output_type": "execute_result"
    }
   ],
   "source": [
    "t=0.2\n",
    "Pm=1\n",
    "Tax0=Pm*0*t+250*t\n",
    "Tax1=Pm*9*t+229*t\n",
    "Tax2=Pm*18*t+208*t\n",
    "Tax3=Pm*27*t+187*t\n",
    "f'Govt revenues are {Tax0}, {Tax1}, {Tax2}, and {Tax3}'"
   ]
  },
  {
   "cell_type": "markdown",
   "id": "e0cb1739",
   "metadata": {},
   "source": [
    "Semakin tinggi TKDN, semakin rendah total _income tax_ dari 2 perusahaan tersebut. Meskipun pajak dari perusahaan domestik naik, akan tetapi pajak yang dibayar oleh perusahaan barang jadi berkurang karena profit yang berkurang. Karena itu, meskipun sekilas TKDN tidak memerlukan persiapan fiskal seperti subsidi, tetapi potensi inefisiensi yang dihasilkan memiliki 'ongkos' terhadap APBN juga.\n",
    "\n",
    "Hal ini tentunya di luar APBN yang digunakan untuk menegakkan aturan TKDN. Misalnya, untuk memastikan sebuah perusahaan mengikuti aturan TKDN, perusahaan tersebut harus disurvey dulu untuk dapat sertifikat lolos TKDN. Sertifikat 2 barang pertama dibayarin oleh Pemerintah, yang tentunya pakai APBN. Ini belum termasuk pembangunan sistem dan sumberdaya yang harus dialokasikan untuk penegakan TKDN oleh pemerintah. Di samping itu, untuk barang ke-3 yang perlu TKDN, maka perusahaan harus menanggung biaya sertifikat, yang akan mengurangi lebih jauh profit mereka, dan otomatis pajak penghasilan yang dibayarkan.\n",
    "\n",
    "Beberapa hal di atas merupakan kemungkinan problem yang ditimbulkan oleh TKDN. Nanti saya bahas lagi kapan-kapan wkwk. Mention saya di [twitter](https://www.twitter.com/imedkrisna) jika ada komen, kritik, atau saran. Thanks."
   ]
  },
  {
   "cell_type": "markdown",
   "id": "05d75ddc",
   "metadata": {},
   "source": [
    "[^1]: Fernando, O., & Ing, L. Y. (2022). Indonesia's Local Content Requirements: An Assessment on Consistency with Free Trade Agreement Commitments. *ERIA Discussion Paper Series*, 420. https://www.eria.org/publications/indonesias-local-content-requirements-an-assessment-on-consistency-with-free-trade-agreement-commitments/ \n",
    "[^2]: Grossman, G. M. (1981). The Theory of Domestic Content Protection and Content Preference. *The Quarterly Journal of Economics*, 96(4), 583-603. https://doi.org/10.2307/1880742 \n",
    "[^3]: Veloso, F. M. (2006). Understanding Local Content Decisions: Economic Analysis and an Application to the Automotive Industry. *Journal of Regional Science*, 46(4), 747-772. https://doi.org/https://doi.org/10.1111/j.1467-9787.2006.00476.x \n",
    "[^4]: Lin, S.-H., & Weng, Y. (2020). Can strengthening the local content requirements meet a government’s need to raise industrial productivity and production? *Journal of Applied Economics*, 23(1), 316-328. https://doi.org/10.1080/15140326.2020.1753468\n"
   ]
  }
 ],
 "metadata": {
  "kernelspec": {
   "display_name": "Python 3 (ipykernel)",
   "language": "python",
   "name": "python3"
  },
  "language_info": {
   "codemirror_mode": {
    "name": "ipython",
    "version": 3
   },
   "file_extension": ".py",
   "mimetype": "text/x-python",
   "name": "python",
   "nbconvert_exporter": "python",
   "pygments_lexer": "ipython3",
   "version": "3.8.12"
  }
 },
 "nbformat": 4,
 "nbformat_minor": 5
}
